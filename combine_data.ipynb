{
 "cells": [
  {
   "cell_type": "code",
   "execution_count": 1,
   "metadata": {},
   "outputs": [],
   "source": [
    "import pandas as pd"
   ]
  },
  {
   "cell_type": "code",
   "execution_count": 49,
   "metadata": {},
   "outputs": [],
   "source": [
    "header = [\"time\",\"value1\"]\n",
    "date_aug = \"31.08.2022\"\n",
    "date_sep1 = \"01.09.2022\"\n",
    "date_sep2 = \"15.09.2022\"\n",
    "date_sep3 = \"17.09.2022\"\n",
    "date_oct = \"03.10.2022\""
   ]
  },
  {
   "cell_type": "code",
   "execution_count": 47,
   "metadata": {},
   "outputs": [],
   "source": [
    "SGP30_0109 = pd.read_csv(\"01092022/Messung_SGP30_01_09_2022.txt\", header = None, delimiter=\" \")\n",
    "SGP40_0109 = pd.read_csv(\"01092022/Messung_SGP40_01_09_2022.txt\", header = None, delimiter=\" \")\n",
    "ZMOD_0109 = pd.read_csv(\"01092022/Messung_ZMOD_01_09_2022.txt\", header=None, delimiter=\" \")\n",
    "\n",
    "SGP30_3108 = pd.read_csv(\"31082022/Messung_SGP30_31_08_2022.txt\", header=None, delimiter=\" \")\n",
    "SGP40_3108 = pd.read_csv(\"31082022/Messung_SGP40_31_08_2022.txt\", header = None, delimiter=\" \")\n",
    "ZMOD_3108 = pd.read_csv(\"31082022/Messung_ZMOD_31_08_2022.txt\", header=None)"
   ]
  },
  {
   "cell_type": "code",
   "execution_count": 45,
   "metadata": {},
   "outputs": [
    {
     "data": {
      "text/html": [
       "<div>\n",
       "<style scoped>\n",
       "    .dataframe tbody tr th:only-of-type {\n",
       "        vertical-align: middle;\n",
       "    }\n",
       "\n",
       "    .dataframe tbody tr th {\n",
       "        vertical-align: top;\n",
       "    }\n",
       "\n",
       "    .dataframe thead th {\n",
       "        text-align: right;\n",
       "    }\n",
       "</style>\n",
       "<table border=\"1\" class=\"dataframe\">\n",
       "  <thead>\n",
       "    <tr style=\"text-align: right;\">\n",
       "      <th></th>\n",
       "      <th>0</th>\n",
       "      <th>1</th>\n",
       "      <th>2</th>\n",
       "      <th>3</th>\n",
       "      <th>4</th>\n",
       "      <th>5</th>\n",
       "    </tr>\n",
       "  </thead>\n",
       "  <tbody>\n",
       "    <tr>\n",
       "      <th>0</th>\n",
       "      <td>01.09.2022 18:44:12</td>\n",
       "      <td>172614752</td>\n",
       "      <td>2356815</td>\n",
       "      <td>654208</td>\n",
       "      <td>2362347</td>\n",
       "      <td>1</td>\n",
       "    </tr>\n",
       "    <tr>\n",
       "      <th>1</th>\n",
       "      <td>01.09.2022 18:44:12</td>\n",
       "      <td>171137568</td>\n",
       "      <td>2357737</td>\n",
       "      <td>656000</td>\n",
       "      <td>2351297</td>\n",
       "      <td>1</td>\n",
       "    </tr>\n",
       "    <tr>\n",
       "      <th>2</th>\n",
       "      <td>01.09.2022 18:44:12</td>\n",
       "      <td>171539200</td>\n",
       "      <td>2373446</td>\n",
       "      <td>660370</td>\n",
       "      <td>2362347</td>\n",
       "      <td>1</td>\n",
       "    </tr>\n",
       "    <tr>\n",
       "      <th>3</th>\n",
       "      <td>01.09.2022 18:44:12</td>\n",
       "      <td>171472144</td>\n",
       "      <td>2394866</td>\n",
       "      <td>667111</td>\n",
       "      <td>2370665</td>\n",
       "      <td>1</td>\n",
       "    </tr>\n",
       "    <tr>\n",
       "      <th>4</th>\n",
       "      <td>01.09.2022 18:44:12</td>\n",
       "      <td>172344992</td>\n",
       "      <td>2423096</td>\n",
       "      <td>675239</td>\n",
       "      <td>2393930</td>\n",
       "      <td>1</td>\n",
       "    </tr>\n",
       "  </tbody>\n",
       "</table>\n",
       "</div>"
      ],
      "text/plain": [
       "                         0          1        2       3        4  5\n",
       "0      01.09.2022 18:44:12  172614752  2356815  654208  2362347  1\n",
       "1      01.09.2022 18:44:12  171137568  2357737  656000  2351297  1\n",
       "2      01.09.2022 18:44:12  171539200  2373446  660370  2362347  1\n",
       "3      01.09.2022 18:44:12  171472144  2394866  667111  2370665  1\n",
       "4      01.09.2022 18:44:12  172344992  2423096  675239  2393930  1"
      ]
     },
     "execution_count": 45,
     "metadata": {},
     "output_type": "execute_result"
    }
   ],
   "source": [
    "SGP30_0109.head()"
   ]
  },
  {
   "cell_type": "code",
   "execution_count": 46,
   "metadata": {},
   "outputs": [
    {
     "data": {
      "text/html": [
       "<div>\n",
       "<style scoped>\n",
       "    .dataframe tbody tr th:only-of-type {\n",
       "        vertical-align: middle;\n",
       "    }\n",
       "\n",
       "    .dataframe tbody tr th {\n",
       "        vertical-align: top;\n",
       "    }\n",
       "\n",
       "    .dataframe thead th {\n",
       "        text-align: right;\n",
       "    }\n",
       "</style>\n",
       "<table border=\"1\" class=\"dataframe\">\n",
       "  <thead>\n",
       "    <tr style=\"text-align: right;\">\n",
       "      <th></th>\n",
       "      <th>0</th>\n",
       "      <th>1</th>\n",
       "      <th>2</th>\n",
       "      <th>3</th>\n",
       "      <th>4</th>\n",
       "      <th>5</th>\n",
       "    </tr>\n",
       "  </thead>\n",
       "  <tbody>\n",
       "    <tr>\n",
       "      <th>0</th>\n",
       "      <td>18:44:11</td>\n",
       "      <td>0.0</td>\n",
       "      <td>0</td>\n",
       "      <td>0</td>\n",
       "      <td>1</td>\n",
       "      <td>Warmup!</td>\n",
       "    </tr>\n",
       "    <tr>\n",
       "      <th>1</th>\n",
       "      <td>18:44:09</td>\n",
       "      <td>0.0</td>\n",
       "      <td>0</td>\n",
       "      <td>0</td>\n",
       "      <td>1</td>\n",
       "      <td>Warmup!</td>\n",
       "    </tr>\n",
       "    <tr>\n",
       "      <th>2</th>\n",
       "      <td>18:44:07</td>\n",
       "      <td>0.0</td>\n",
       "      <td>0</td>\n",
       "      <td>0</td>\n",
       "      <td>1</td>\n",
       "      <td>Warmup!</td>\n",
       "    </tr>\n",
       "    <tr>\n",
       "      <th>3</th>\n",
       "      <td>18:44:05</td>\n",
       "      <td>0.0</td>\n",
       "      <td>0</td>\n",
       "      <td>0</td>\n",
       "      <td>1</td>\n",
       "      <td>Warmup!</td>\n",
       "    </tr>\n",
       "    <tr>\n",
       "      <th>4</th>\n",
       "      <td>18:44:03</td>\n",
       "      <td>0.0</td>\n",
       "      <td>0</td>\n",
       "      <td>0</td>\n",
       "      <td>1</td>\n",
       "      <td>Warmup!</td>\n",
       "    </tr>\n",
       "  </tbody>\n",
       "</table>\n",
       "</div>"
      ],
      "text/plain": [
       "          0    1  2  3  4        5\n",
       "0  18:44:11  0.0  0  0  1  Warmup!\n",
       "1  18:44:09  0.0  0  0  1  Warmup!\n",
       "2  18:44:07  0.0  0  0  1  Warmup!\n",
       "3  18:44:05  0.0  0  0  1  Warmup!\n",
       "4  18:44:03  0.0  0  0  1  Warmup!"
      ]
     },
     "execution_count": 46,
     "metadata": {},
     "output_type": "execute_result"
    }
   ],
   "source": [
    "ZMOD_0109.head()"
   ]
  },
  {
   "cell_type": "code",
   "execution_count": 25,
   "metadata": {},
   "outputs": [],
   "source": [
    "SGP30_0109.iloc[0,0]=\"01.09.2022 \" + SGP30_0109.iloc[0,0]"
   ]
  },
  {
   "cell_type": "code",
   "execution_count": 42,
   "metadata": {},
   "outputs": [],
   "source": [
    "def add_date(df, date_string):\n",
    "    \"\"\"Adds the datestring to the first column in dataframe. Does not create a separate column\"\"\"\n",
    "    for i in range(len(df)): \n",
    "        #print(df.iloc[i,0])\n",
    "        date_string.strip()\n",
    "        df.iloc[i,0]= date_string + \" \" + df.iloc[i,0]"
   ]
  },
  {
   "cell_type": "code",
   "execution_count": 27,
   "metadata": {},
   "outputs": [
    {
     "data": {
      "text/plain": [
       "51131"
      ]
     },
     "execution_count": 27,
     "metadata": {},
     "output_type": "execute_result"
    }
   ],
   "source": [
    "len(SGP30_0109)"
   ]
  },
  {
   "cell_type": "code",
   "execution_count": 48,
   "metadata": {},
   "outputs": [],
   "source": [
    "add_date(SGP30_0109, \"01.09.2022\")\n",
    "add_date(SGP40_0109, \"01.09.2022\")\n",
    "add_date(ZMOD_0109, \"01.09.2022\")"
   ]
  },
  {
   "cell_type": "code",
   "execution_count": null,
   "metadata": {},
   "outputs": [],
   "source": []
  }
 ],
 "metadata": {
  "kernelspec": {
   "display_name": "Python 3.10.6 ('mst')",
   "language": "python",
   "name": "python3"
  },
  "language_info": {
   "codemirror_mode": {
    "name": "ipython",
    "version": 3
   },
   "file_extension": ".py",
   "mimetype": "text/x-python",
   "name": "python",
   "nbconvert_exporter": "python",
   "pygments_lexer": "ipython3",
   "version": "3.10.6"
  },
  "orig_nbformat": 4,
  "vscode": {
   "interpreter": {
    "hash": "e72224a56a4a5dfdf1f79ca8ff5100d8030f6162449924a5315ae2dd1e05812d"
   }
  }
 },
 "nbformat": 4,
 "nbformat_minor": 2
}
